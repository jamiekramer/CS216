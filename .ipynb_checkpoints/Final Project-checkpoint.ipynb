{
 "cells": [
  {
   "cell_type": "markdown",
   "id": "27ed40db",
   "metadata": {},
   "source": [
    "# Final Project\n",
    "\n",
    "CS 216: Annie Sawers, Casey Syal, Jamie Kramer, Julia Mitchell"
   ]
  },
  {
   "cell_type": "code",
   "execution_count": 1,
   "id": "4b476842",
   "metadata": {},
   "outputs": [],
   "source": [
    "# Import Statements\n",
    "import numpy as np\n",
    "import pandas as pd\n",
    "import seaborn as sns\n",
    "from datetime import datetime\n",
    "\n",
    "intakes = pd.read_csv(\"Austin_Animal_Center_Intakes.csv\")\n",
    "outcomes = pd.read_csv(\"Austin_Animal_Center_Outcomes.csv\")\n",
    "map_df = pd.read_csv(\"Austin_Animal_Center_Stray_Map.csv\")"
   ]
  },
  {
   "cell_type": "markdown",
   "id": "60e10af8",
   "metadata": {},
   "source": [
    "## Description of Datasets\n",
    "\n",
    "### Intakes:\n",
    "* **Animal ID**: Unique ID of animal\n",
    "* **Name**: The animal's name\n",
    "* **Date**: Date of intake (YYYY/MM/DD)\n",
    "* **Found Location**: Location where animal was found\n",
    "* **Intake Type**: The type of intake (stray, owner surrender, etc.)\n",
    "* **Intake Condition**: Condition upon intake\n",
    "* **Animal Type**: Species of animal\n",
    "* **Sex upon Intake**: Neutered Condition & Gender\n",
    "* **Age**: In years\n",
    "* **Breed**: Animal Breed\n",
    "* **Color**: Color of animal's coat\n",
    "\n",
    "### Outcomes:\n",
    "* **Animal ID**: Unique ID of animal\n",
    "* **Name**: The animal's name\n",
    "* **Date**: Date of outcome (YYYY/MM/DD)\n",
    "* **Birthday**: YYYY/MM/DD\n",
    "* **Outcome Type**: The type of outcome (adoption, euthanasia, etc.)\n",
    "* **Outcome Subtype**\n",
    "* **Animal Type**: Species of animal\n",
    "* **Sex upon Outcome**: Neutered Condition & Gender\n",
    "* **Age**: In years\n",
    "* **Breed**: Animal Breed\n",
    "* **Color**: Color of animal's coat"
   ]
  },
  {
   "cell_type": "markdown",
   "id": "7a6fdf1a",
   "metadata": {},
   "source": [
    "## Data Cleaning"
   ]
  },
  {
   "cell_type": "code",
   "execution_count": 2,
   "id": "197fdfd5",
   "metadata": {},
   "outputs": [],
   "source": [
    "# Age Upon Intake\n",
    "arr1 = []\n",
    "for age1 in intakes[\"Age upon Intake\"]:\n",
    "    lst1 = age1.split()\n",
    "    if lst1[1].startswith(\"year\"):\n",
    "        arr1.append(int(lst1[0]))\n",
    "    elif lst1[1].startswith(\"month\"):\n",
    "        arr1.append(int(lst1[0])/12)\n",
    "    elif lst1[1].startswith(\"week\"):\n",
    "        arr1.append(int(lst1[0])/52)\n",
    "    elif lst1[1].startswith(\"day\"):\n",
    "        arr1.append(int(lst1[0])/365)\n",
    "intakes[\"Age\"] = arr1\n",
    "intakes = intakes.drop(columns=['Age upon Intake'])"
   ]
  },
  {
   "cell_type": "code",
   "execution_count": 3,
   "id": "89cdd225",
   "metadata": {},
   "outputs": [],
   "source": [
    "# Age Upon Outcome\n",
    "outcomes = outcomes[outcomes[\"Age upon Outcome\"].notnull()]\n",
    "arr2 = []\n",
    "for age2 in outcomes[\"Age upon Outcome\"]:\n",
    "    lst2 = age2.split(\" \")\n",
    "    if lst2[1].startswith(\"year\"):\n",
    "        arr2.append(int(lst2[0]))\n",
    "    elif lst2[1].startswith(\"month\"):\n",
    "        arr2.append(int(lst2[0])/12)\n",
    "    elif lst2[1].startswith(\"week\"):\n",
    "        arr2.append(int(lst2[0])/52)\n",
    "    elif lst2[1].startswith(\"day\"):\n",
    "        arr2.append(int(lst2[0])/365)\n",
    "outcomes[\"Age\"] = arr2\n",
    "outcomes = outcomes.drop(columns=['Age upon Outcome'])"
   ]
  },
  {
   "cell_type": "code",
   "execution_count": 4,
   "id": "1475beac",
   "metadata": {},
   "outputs": [],
   "source": [
    "# Date Time Intake\n",
    "arr = []\n",
    "for date in intakes[\"DateTime\"]:\n",
    "    lst = date.split()\n",
    "    arr.append(datetime.strptime(lst[0], '%m/%d/%Y'))\n",
    "intakes[\"Date\"] = arr\n",
    "intakes = intakes.drop(columns=['DateTime', 'MonthYear'])"
   ]
  },
  {
   "cell_type": "code",
   "execution_count": 5,
   "id": "e8b75f3c",
   "metadata": {},
   "outputs": [],
   "source": [
    "# Date Time Outcome\n",
    "arr = []\n",
    "months = []\n",
    "for date in outcomes[\"DateTime\"]:\n",
    "    lst = date.split()\n",
    "    arr.append(datetime.strptime(lst[0], '%m/%d/%Y'))\n",
    "    months.append(lst[0][:2])\n",
    "outcomes[\"Date\"] = arr\n",
    "outcomes[\"Month\"] = months\n",
    "outcomes = outcomes.drop(columns=['DateTime', 'MonthYear'])"
   ]
  },
  {
   "cell_type": "code",
   "execution_count": 6,
   "id": "f6c394f8",
   "metadata": {},
   "outputs": [],
   "source": [
    "# Date of Birth\n",
    "arr = []\n",
    "for date in outcomes[\"Date of Birth\"]:\n",
    "    arr.append(datetime.strptime(date, '%m/%d/%Y'))\n",
    "outcomes[\"Birthday\"] = arr\n",
    "outcomes = outcomes.drop(columns=['Date of Birth'])"
   ]
  },
  {
   "cell_type": "code",
   "execution_count": 7,
   "id": "87da1c3e",
   "metadata": {},
   "outputs": [
    {
     "name": "stdout",
     "output_type": "stream",
     "text": [
      "  Animal ID     Name                       Found Location Intake Type  \\\n",
      "0   A786884   *Brock  2501 Magin Meadow Dr in Austin (TX)       Stray   \n",
      "1   A706918    Belle     9409 Bluegrass Dr in Austin (TX)       Stray   \n",
      "2   A724273  Runster   2818 Palomino Trail in Austin (TX)       Stray   \n",
      "3   A665644      NaN                          Austin (TX)       Stray   \n",
      "4   A682524      Rio        800 Grove Blvd in Austin (TX)       Stray   \n",
      "\n",
      "  Intake Condition Animal Type Sex upon Intake  \\\n",
      "0           Normal         Dog   Neutered Male   \n",
      "1           Normal         Dog   Spayed Female   \n",
      "2           Normal         Dog     Intact Male   \n",
      "3             Sick         Cat   Intact Female   \n",
      "4           Normal         Dog   Neutered Male   \n",
      "\n",
      "                                   Breed        Color       Age       Date  \n",
      "0                             Beagle Mix     Tricolor  2.000000 2019-01-03  \n",
      "1               English Springer Spaniel  White/Liver  8.000000 2015-07-05  \n",
      "2                            Basenji Mix  Sable/White  0.916667 2016-04-14  \n",
      "3                 Domestic Shorthair Mix       Calico  0.076923 2013-10-21  \n",
      "4  Doberman Pinsch/Australian Cattle Dog     Tan/Gray  4.000000 2014-06-29  \n",
      "  Animal ID   Name Outcome Type Outcome Subtype Animal Type Sex upon Outcome  \\\n",
      "0   A794011  Chunk    Rto-Adopt             NaN         Cat    Neutered Male   \n",
      "1   A776359  Gizmo     Adoption             NaN         Dog    Neutered Male   \n",
      "2   A821648    NaN   Euthanasia             NaN       Other          Unknown   \n",
      "3   A720371  Moose     Adoption             NaN         Dog    Neutered Male   \n",
      "4   A674754    NaN     Transfer         Partner         Cat      Intact Male   \n",
      "\n",
      "                                Breed              Color       Age       Date  \\\n",
      "0              Domestic Shorthair Mix  Brown Tabby/White  2.000000 2019-05-08   \n",
      "1             Chihuahua Shorthair Mix        White/Brown  1.000000 2018-07-18   \n",
      "2                             Raccoon               Gray  1.000000 2020-08-16   \n",
      "3  Anatol Shepherd/Labrador Retriever               Buff  0.333333 2016-02-13   \n",
      "4              Domestic Shorthair Mix       Orange Tabby  0.016438 2014-03-18   \n",
      "\n",
      "  Month   Birthday  \n",
      "0    05 2017-05-02  \n",
      "1    07 2017-07-12  \n",
      "2    08 2019-08-16  \n",
      "3    02 2015-10-08  \n",
      "4    03 2014-03-12  \n"
     ]
    }
   ],
   "source": [
    "print(intakes.head())\n",
    "print(outcomes.head())"
   ]
  },
  {
   "cell_type": "markdown",
   "id": "e268fc13",
   "metadata": {},
   "source": [
    "## What Might Contribute to Adoption? (EDA)\n",
    "\n",
    "Created new column... 0 if died or euthanasia; 1 if adopted or rto-adopt"
   ]
  },
  {
   "cell_type": "code",
   "execution_count": 8,
   "id": "0339928a",
   "metadata": {},
   "outputs": [
    {
     "name": "stdout",
     "output_type": "stream",
     "text": [
      "Outcome Type\n",
      "Adoption           55347\n",
      "Died                1156\n",
      "Disposal             568\n",
      "Euthanasia          8376\n",
      "Missing               69\n",
      "Relocate              22\n",
      "Return to Owner    21517\n",
      "Rto-Adopt            698\n",
      "Transfer           36713\n",
      "Name: Animal ID, dtype: int64\n",
      "\n",
      "\n",
      "Adopted\n",
      "0     9532\n",
      "1    56045\n",
      "Name: Animal ID, dtype: int64\n"
     ]
    }
   ],
   "source": [
    "# What are the types of outcomes?\n",
    "print(outcomes.groupby(outcomes[\"Outcome Type\"])[\"Animal ID\"].count())\n",
    "\n",
    "# Subset of Outcomes in which animals were adopted\n",
    "outcomes = outcomes[(outcomes[\"Outcome Type\"] != \"Return to Owner\") & \n",
    "                   (outcomes[\"Outcome Type\"] != \"Relocate\") & \n",
    "                   (outcomes[\"Outcome Type\"] != \"Missing\") &\n",
    "                   (outcomes[\"Outcome Type\"] != \"Disposal\") &\n",
    "                   (outcomes[\"Outcome Type\"] != \"Transfer\")]\n",
    "outcomes = outcomes[outcomes[\"Outcome Type\"].notnull()]\n",
    "\n",
    "outcomes[\"Adopted\"] = outcomes[\"Outcome Type\"].str.replace(\"Adoption\", \"1\")\n",
    "outcomes[\"Adopted\"] = outcomes[\"Adopted\"].str.replace(\"Rto-Adopt\", \"1\")\n",
    "outcomes[\"Adopted\"] = outcomes[\"Adopted\"].str.replace(\"Died\", \"0\")\n",
    "outcomes[\"Adopted\"] = outcomes[\"Adopted\"].str.replace(\"Euthanasia\", \"0\")\n",
    "print(\"\\n\")\n",
    "print(outcomes.groupby(outcomes[\"Adopted\"])[\"Animal ID\"].count())"
   ]
  },
  {
   "cell_type": "markdown",
   "id": "76b3e79b",
   "metadata": {},
   "source": [
    "### Intrinsic Factors on Adoption"
   ]
  },
  {
   "cell_type": "code",
   "execution_count": 20,
   "id": "8b4a4976",
   "metadata": {},
   "outputs": [
    {
     "data": {
      "text/plain": [
       "<seaborn.axisgrid.FacetGrid at 0x7fd759a9f9a0>"
      ]
     },
     "execution_count": 20,
     "metadata": {},
     "output_type": "execute_result"
    },
    {
     "data": {
      "image/png": "[encoded data removed]",
      "text/plain": [
       "<Figure size 360x360 with 1 Axes>"
      ]
     },
     "metadata": {
      "needs_background": "light"
     },
     "output_type": "display_data"
    }
   ],
   "source": [
    "# Which species is adopted more?\n",
    "adopted = outcomes[outcomes[\"Adopted\"]==\"1\"]\n",
    "total = adopted.shape[0]\n",
    "adopted = adopted.groupby(\"Animal Type\").count()\n",
    "adopted.reset_index(inplace=True)\n",
    "adopted.head()\n",
    "adopted[\"Adopted Percent\"] = adopted[\"Adopted\"] / total\n",
    "\n",
    "adopted.head()\n",
    "sns.catplot(x='Adopted Percent', y=\"Animal Type\", data=adopted, kind='bar')"
   ]
  },
  {
   "cell_type": "code",
   "execution_count": 10,
   "id": "23caf1d4",
   "metadata": {},
   "outputs": [
    {
     "data": {
      "text/plain": [
       "<seaborn.axisgrid.FacetGrid at 0x7fd7548bf130>"
      ]
     },
     "execution_count": 10,
     "metadata": {},
     "output_type": "execute_result"
    },
    {
     "data": {
      "image/png": "[encoded data removed]",
      "text/plain": [
       "<Figure size 360x360 with 1 Axes>"
      ]
     },
     "metadata": {
      "needs_background": "light"
     },
     "output_type": "display_data"
    }
   ],
   "source": [
    "# How old are animals usually when they are adopted?\n",
    "adopted = outcomes[outcomes[\"Adopted\"]==\"1\"]\n",
    "sns.catplot(data=adopted, x='Animal Type', y=\"Age\", kind='box')"
   ]
  },
  {
   "cell_type": "markdown",
   "id": "8a343eef",
   "metadata": {},
   "source": [
    "### Extrinsic Factors on Adoption"
   ]
  },
  {
   "cell_type": "code",
   "execution_count": 11,
   "id": "d31d972b",
   "metadata": {},
   "outputs": [
    {
     "data": {
      "text/plain": [
       "<seaborn.axisgrid.FacetGrid at 0x7fd75a262e20>"
      ]
     },
     "execution_count": 11,
     "metadata": {},
     "output_type": "execute_result"
    },
    {
     "data": {
      "image/png": "[encoded data removed]",
      "text/plain": [
       "<Figure size 360x360 with 1 Axes>"
      ]
     },
     "metadata": {
      "needs_background": "light"
     },
     "output_type": "display_data"
    }
   ],
   "source": [
    "# What time of month are animals adopted?\n",
    "adopted = outcomes[outcomes[\"Adopted\"]==\"1\"]\n",
    "adopted = adopted.groupby(\"Month\").count()\n",
    "adopted.reset_index(inplace=True)\n",
    "sns.catplot(x='Adopted', y=\"Month\", data=adopted, kind='bar')"
   ]
  },
  {
   "cell_type": "markdown",
   "id": "5d7717c8",
   "metadata": {},
   "source": [
    "## We need to do more EDA with the intakes dataset\n",
    "merge intake condition and then figure out if condition has impact on adoption\n",
    "\n",
    "also we should probably filter so that we are just looking at cat and dog"
   ]
  }
 ],
 "metadata": {
  "kernelspec": {
   "display_name": "Python 3 (ipykernel)",
   "language": "python",
   "name": "python3"
  },
  "language_info": {
   "codemirror_mode": {
    "name": "ipython",
    "version": 3
   },
   "file_extension": ".py",
   "mimetype": "text/x-python",
   "name": "python",
   "nbconvert_exporter": "python",
   "pygments_lexer": "ipython3",
   "version": "3.9.7"
  }
 },
 "nbformat": 4,
 "nbformat_minor": 5
}
