{
 "cells": [
  {
   "cell_type": "markdown",
   "id": "27ed40db",
   "metadata": {},
   "source": [
    "# Final Project\n",
    "\n",
    "CS 216: Annie Sawers, Casey Syal, Jamie Kramer, Julia Mitchell"
   ]
  },
  {
   "cell_type": "code",
   "execution_count": null,
   "id": "4b476842",
   "metadata": {},
   "outputs": [],
   "source": [
    "# Import Statements\n",
    "import numpy as np\n",
    "import pandas as pd\n",
    "import seaborn as sns\n",
    "\n",
    "intakes = pd.read_csv(\"Austin_Animal_Center_Intakes.csv\")\n",
    "outcomes = pd.read_csv(\"Austin_Animal_Center_Outcomes.csv\")\n",
    "map_df = pd.read_csv(\"Austin_Animal_Center_Stray_Map.csv\")"
   ]
  },
  {
   "cell_type": "code",
   "execution_count": null,
   "id": "197fdfd5",
   "metadata": {},
   "outputs": [],
   "source": []
  }
 ],
 "metadata": {
  "kernelspec": {
   "display_name": "Python 3 (ipykernel)",
   "language": "python",
   "name": "python3"
  },
  "language_info": {
   "codemirror_mode": {
    "name": "ipython",
    "version": 3
   },
   "file_extension": ".py",
   "mimetype": "text/x-python",
   "name": "python",
   "nbconvert_exporter": "python",
   "pygments_lexer": "ipython3",
   "version": "3.9.7"
  }
 },
 "nbformat": 4,
 "nbformat_minor": 5
}
